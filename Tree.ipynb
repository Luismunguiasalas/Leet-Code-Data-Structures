{
 "cells": [
  {
   "cell_type": "code",
   "execution_count": null,
   "metadata": {},
   "outputs": [],
   "source": [
    "# 144 Binary Tree Preorder Traversal\n",
    "# Given the root of a binary tree, return the preorder traversal of its nodes' values.\n",
    "\n",
    "\n",
    "# Definition for a binary tree node.\n",
    "# class TreeNode:\n",
    "#     def __init__(self, val=0, left=None, right=None):\n",
    "#         self.val = val\n",
    "#         self.left = left\n",
    "#         self.right = right\n",
    "class Solution:\n",
    "    def preorderTraversal(self, root: Optional[TreeNode]) -> List[int]:\n",
    "        if root is None:\n",
    "            return None\n",
    "        output = []\n",
    "        stack = [root]\n",
    "        while stack != []:\n",
    "            current = stack.pop()\n",
    "            output.append(current.val)\n",
    "            if current.right is not None:\n",
    "                stack.append(current.right)\n",
    "            if current.left is not None:\n",
    "                stack.append(current.left)\n",
    "        return output\n",
    "      \n",
    "# Time O(N), Space(log(N))\n",
    "# Runtime: 26ms, beats 94% of python 3 submissions"
   ]
  },
  {
   "cell_type": "code",
   "execution_count": null,
   "metadata": {},
   "outputs": [],
   "source": [
    "# 94. Binary Tree Inorder Traversal\n",
    "# Given the root of a binary tree, return the inorder traversal of its nodes' values.\n",
    "\n",
    "# Definition for a binary tree node.\n",
    "# class TreeNode:\n",
    "#     def __init__(self, val=0, left=None, right=None):\n",
    "#         self.val = val\n",
    "#         self.left = left\n",
    "#         self.right = right\n",
    "class Solution:\n",
    "    def inorderTraversal(self, root: Optional[TreeNode]) -> List[int]:\n",
    "        if root is None:\n",
    "            return None\n",
    "        output = []\n",
    "        prev = [None]\n",
    "        current = root\n",
    "        while current is not None:\n",
    "            if current.left is None and current.right is None:\n",
    "                output.append(current.val)\n",
    "            elif current.left is not None and current.right is not None:\n",
    "                prev.append(current.right)\n",
    "                prev.append(current)\n",
    "                prev.append(current.left)\n",
    "                current.right = None\n",
    "                current.left = None\n",
    "            elif current.right is not None:\n",
    "                prev.append(current.right)\n",
    "                prev.append(current)\n",
    "                current.right = None\n",
    "            elif current.left is not None:\n",
    "                prev.append(current)\n",
    "                prev.append(current.left)\n",
    "                current.left = None\n",
    "            current = prev.pop()\n",
    "        return output\n",
    "      \n",
    "# Time O(N), Space O(log(N))"
   ]
  },
  {
   "cell_type": "code",
   "execution_count": null,
   "metadata": {},
   "outputs": [],
   "source": [
    "# 145. Binary Tree Postorder Traversal\n",
    "# Given the root of a binary tree, return the postorder traversal of its nodes' values.\n",
    "\n",
    "# Definition for a binary tree node.\n",
    "# class TreeNode:\n",
    "#     def __init__(self, val=0, left=None, right=None):\n",
    "#         self.val = val\n",
    "#         self.left = left\n",
    "#         self.right = right\n",
    "class Solution:\n",
    "    def postorderTraversal(self, root: Optional[TreeNode]) -> List[int]:\n",
    "        if root is None:\n",
    "            return None\n",
    "        output = []\n",
    "        prev = [None]\n",
    "        current = root\n",
    "        while current is not None:\n",
    "            if current.left is None and current.right is None:\n",
    "                output.append(current.val)\n",
    "            elif current.left is not None and current.right is not None:\n",
    "                prev.append(current)\n",
    "                prev.append(current.right)\n",
    "                prev.append(current.left)\n",
    "            elif current.right is not None:\n",
    "                prev.append(current)\n",
    "                prev.append(current.right)\n",
    "            elif current.left is not None:\n",
    "                prev.append(current)\n",
    "                prev.append(current.left)\n",
    "            current.left = None\n",
    "            current.right = None\n",
    "            current = prev.pop()\n",
    "        return output\n",
    "      \n",
    "# Time O(N), Space(log(N))\n",
    "# Runtime: 29ms, beats 90%"
   ]
  },
  {
   "cell_type": "code",
   "execution_count": 1,
   "metadata": {},
   "outputs": [
    {
     "data": {
      "text/plain": [
       "0"
      ]
     },
     "execution_count": 1,
     "metadata": {},
     "output_type": "execute_result"
    }
   ],
   "source": [
    "# 102. Binary Tree Level Order Traversal\n",
    "\n",
    "# Given the root of a binary tree, return the level order traversal of its nodes' values. (i.e., from left to right, level by level).\n",
    "\n",
    "# Definition for a binary tree node.\n",
    "# class TreeNode:\n",
    "#     def __init__(self, val=0, left=None, right=None):\n",
    "#         self.val = val\n",
    "#         self.left = left\n",
    "#         self.right = right\n",
    "class Solution:\n",
    "    def levelOrder(self, root: Optional[TreeNode]) -> List[List[int]]:\n",
    "        output = []\n",
    "        def helper(node, level = 0):\n",
    "            while node is not None:\n",
    "                if level + 1 > len(output):\n",
    "                    output.append([])\n",
    "                output[level].append(node.val)\n",
    "                if node.left is not None:\n",
    "                    helper(node.left, level + 1)\n",
    "                if node.right is not None:\n",
    "                    helper(node.right, level + 1)\n",
    "                return\n",
    "            return\n",
    "        helper(root, level = 0)\n",
    "        return output\n",
    "\n",
    "# Time O(N), O(N) Space if binary tree is skewed left or right\n",
    "# Runtime 37ms, beats 81%"
   ]
  }
 ],
 "metadata": {
  "kernelspec": {
   "display_name": "base",
   "language": "python",
   "name": "python3"
  },
  "language_info": {
   "codemirror_mode": {
    "name": "ipython",
    "version": 3
   },
   "file_extension": ".py",
   "mimetype": "text/x-python",
   "name": "python",
   "nbconvert_exporter": "python",
   "pygments_lexer": "ipython3",
   "version": "3.9.13"
  },
  "orig_nbformat": 4,
  "vscode": {
   "interpreter": {
    "hash": "40d3a090f54c6569ab1632332b64b2c03c39dcf918b08424e98f38b5ae0af88f"
   }
  }
 },
 "nbformat": 4,
 "nbformat_minor": 2
}
