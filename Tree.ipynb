{
 "cells": [
  {
   "cell_type": "code",
   "execution_count": null,
   "metadata": {},
   "outputs": [],
   "source": [
    "# 144 Binary Tree Preorder Traversal\n",
    "# Given the root of a binary tree, return the preorder traversal of its nodes' values.\n",
    "\n",
    "\n",
    "# Definition for a binary tree node.\n",
    "# class TreeNode:\n",
    "#     def __init__(self, val=0, left=None, right=None):\n",
    "#         self.val = val\n",
    "#         self.left = left\n",
    "#         self.right = right\n",
    "class Solution:\n",
    "    def preorderTraversal(self, root: Optional[TreeNode]) -> List[int]:\n",
    "        if root is None:\n",
    "            return None\n",
    "        output = []\n",
    "        stack = [root]\n",
    "        while stack != []:\n",
    "            current = stack.pop()\n",
    "            output.append(current.val)\n",
    "            if current.right is not None:\n",
    "                stack.append(current.right)\n",
    "            if current.left is not None:\n",
    "                stack.append(current.left)\n",
    "        return output\n",
    "      \n",
    "# Time O(N), Space(log(N))\n",
    "# Runtime: 26ms, beats 94% of python 3 submissions"
   ]
  }
 ],
 "metadata": {
  "kernelspec": {
   "display_name": "Python 3",
   "language": "python",
   "name": "python3"
  },
  "language_info": {
   "name": "python",
   "version": "3.9.6 (default, Oct 18 2022, 12:41:40) \n[Clang 14.0.0 (clang-1400.0.29.202)]"
  },
  "orig_nbformat": 4,
  "vscode": {
   "interpreter": {
    "hash": "31f2aee4e71d21fbe5cf8b01ff0e069b9275f58929596ceb00d14d90e3e16cd6"
   }
  }
 },
 "nbformat": 4,
 "nbformat_minor": 2
}
