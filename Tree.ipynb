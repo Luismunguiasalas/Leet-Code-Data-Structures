{
 "cells": [
  {
   "cell_type": "code",
   "execution_count": null,
   "metadata": {},
   "outputs": [],
   "source": [
    "# 144 Binary Tree Preorder Traversal\n",
    "# Given the root of a binary tree, return the preorder traversal of its nodes' values.\n",
    "\n",
    "\n",
    "# Definition for a binary tree node.\n",
    "# class TreeNode:\n",
    "#     def __init__(self, val=0, left=None, right=None):\n",
    "#         self.val = val\n",
    "#         self.left = left\n",
    "#         self.right = right\n",
    "class Solution:\n",
    "    def preorderTraversal(self, root: Optional[TreeNode]) -> List[int]:\n",
    "        if root is None:\n",
    "            return None\n",
    "        output = []\n",
    "        stack = [root]\n",
    "        while stack != []:\n",
    "            current = stack.pop()\n",
    "            output.append(current.val)\n",
    "            if current.right is not None:\n",
    "                stack.append(current.right)\n",
    "            if current.left is not None:\n",
    "                stack.append(current.left)\n",
    "        return output\n",
    "      \n",
    "# Time O(N), Space(log(N))\n",
    "# Runtime: 26ms, beats 94% of python 3 submissions"
   ]
  },
  {
   "cell_type": "code",
   "execution_count": null,
   "metadata": {},
   "outputs": [],
   "source": [
    "# 94. Binary Tree Inorder Traversal\n",
    "# Given the root of a binary tree, return the inorder traversal of its nodes' values.\n",
    "\n",
    "# Definition for a binary tree node.\n",
    "# class TreeNode:\n",
    "#     def __init__(self, val=0, left=None, right=None):\n",
    "#         self.val = val\n",
    "#         self.left = left\n",
    "#         self.right = right\n",
    "class Solution:\n",
    "    def inorderTraversal(self, root: Optional[TreeNode]) -> List[int]:\n",
    "        if root is None:\n",
    "            return None\n",
    "        output = []\n",
    "        prev = [None]\n",
    "        current = root\n",
    "        while current is not None:\n",
    "            if current.left is None and current.right is None:\n",
    "                output.append(current.val)\n",
    "            elif current.left is not None and current.right is not None:\n",
    "                prev.append(current.right)\n",
    "                prev.append(current)\n",
    "                prev.append(current.left)\n",
    "                current.right = None\n",
    "                current.left = None\n",
    "            elif current.right is not None:\n",
    "                prev.append(current.right)\n",
    "                prev.append(current)\n",
    "                current.right = None\n",
    "            elif current.left is not None:\n",
    "                prev.append(current)\n",
    "                prev.append(current.left)\n",
    "                current.left = None\n",
    "            current = prev.pop()\n",
    "        return output\n",
    "      \n",
    "# Time O(N), Space O(log(N))\n"
   ]
  }
 ],
 "metadata": {
  "kernelspec": {
   "display_name": "Python 3",
   "language": "python",
   "name": "python3"
  },
  "language_info": {
   "name": "python",
   "version": "3.9.6 (default, Oct 18 2022, 12:41:40) \n[Clang 14.0.0 (clang-1400.0.29.202)]"
  },
  "orig_nbformat": 4,
  "vscode": {
   "interpreter": {
    "hash": "31f2aee4e71d21fbe5cf8b01ff0e069b9275f58929596ceb00d14d90e3e16cd6"
   }
  }
 },
 "nbformat": 4,
 "nbformat_minor": 2
}
