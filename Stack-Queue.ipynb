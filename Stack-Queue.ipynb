{
 "cells": [
  {
   "cell_type": "code",
   "execution_count": 1,
   "metadata": {},
   "outputs": [
    {
     "name": "stdout",
     "output_type": "stream",
     "text": [
      "}\n"
     ]
    }
   ],
   "source": [
    "# 20. Valid Parentheses\n",
    "\n",
    "# Given a string s containing just the characters '(', ')', '{', '}', '[' and ']', determine if the input string is valid.\n",
    "\n",
    "# An input string is valid if:\n",
    "\n",
    "# Open brackets must be closed by the same type of brackets.\n",
    "# Open brackets must be closed in the correct order.\n",
    "# Every close bracket has a corresponding open bracket of the same type.\n",
    "\n",
    "class Solution:\n",
    "    def isValid(self, s: str) -> bool:\n",
    "        stack = []\n",
    "        for i in s:\n",
    "            if i == \"(\":\n",
    "                stack.append(\")\")\n",
    "            elif i == \"[\":\n",
    "                stack.append(\"]\")\n",
    "            elif i == \"{\":\n",
    "                stack.append(\"}\")\n",
    "            else:\n",
    "                if stack == []:\n",
    "                    return False\n",
    "                if i != stack.pop():\n",
    "                    return False\n",
    "        if stack == []:\n",
    "            return True\n",
    "        return False\n",
    "# Time O(N), Space(N) - traverse all array and all are left brackets, all arr will be stored in stack unfortunately\n",
    "# runtime: 30ms, beats 91%\n",
    "# memory: beats 24%\n",
    "\n",
    "class Solution:\n",
    "    def isValid(self, s: str) -> bool:\n",
    "        if len(s)/ 2 != len(s)//2:\n",
    "            return False\n",
    "        stack = []\n",
    "        for i in s:\n",
    "            if len(stack) > len(s) / 2:\n",
    "                return False\n",
    "            if i == \"(\":\n",
    "                stack.append(\")\")\n",
    "            elif i == \"[\":\n",
    "                stack.append(\"]\")\n",
    "            elif i == \"{\":\n",
    "                stack.append(\"}\")\n",
    "            else:\n",
    "                if stack == []:\n",
    "                    return False\n",
    "# Time O(N), Space O(n/2)\n",
    "# Runtime: Beats 84%\n",
    "# Memory: Beats 78%"
   ]
  },
  {
   "cell_type": "code",
   "execution_count": 2,
   "metadata": {},
   "outputs": [
    {
     "data": {
      "text/plain": [
       "1.5"
      ]
     },
     "execution_count": 2,
     "metadata": {},
     "output_type": "execute_result"
    }
   ],
   "source": [
    "3/2"
   ]
  }
 ],
 "metadata": {
  "kernelspec": {
   "display_name": "base",
   "language": "python",
   "name": "python3"
  },
  "language_info": {
   "codemirror_mode": {
    "name": "ipython",
    "version": 3
   },
   "file_extension": ".py",
   "mimetype": "text/x-python",
   "name": "python",
   "nbconvert_exporter": "python",
   "pygments_lexer": "ipython3",
   "version": "3.9.13"
  },
  "orig_nbformat": 4,
  "vscode": {
   "interpreter": {
    "hash": "40d3a090f54c6569ab1632332b64b2c03c39dcf918b08424e98f38b5ae0af88f"
   }
  }
 },
 "nbformat": 4,
 "nbformat_minor": 2
}
