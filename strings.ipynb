{
 "cells": [
  {
   "cell_type": "code",
   "execution_count": null,
   "metadata": {},
   "outputs": [],
   "source": [
    "# 242. Valid Anagram\n",
    "# Given two strings s and t, return true if t is an anagram of s, and false otherwise.\n",
    "\n",
    "# An Anagram is a word or phrase formed by rearranging the letters of a different word or phrase, typically using all the original letters exactly once.\n",
    "\n",
    "class Solution:\n",
    "    def isAnagram(self, s: str, t: str) -> bool:\n",
    "        if len(s) != len(t):\n",
    "            return False\n",
    "        arr1 = []\n",
    "        arr2 = []\n",
    "        for i in range(len(s)):\n",
    "            arr1.append(s[i])\n",
    "            arr2.append(t[i])\n",
    "        arr1.sort()\n",
    "        arr2.sort()\n",
    "        if arr1 != arr2:\n",
    "            return False\n",
    "        return True\n",
    "# O(N) Time, space O(s + t)\n",
    "      \n",
    "class Solution:\n",
    "    def isAnagram(self, s: str, t: str) -> bool:\n",
    "        cache = dict()\n",
    "        for char in s:\n",
    "            if char not in cache:\n",
    "                cache[char] = 0\n",
    "            cache[char] += 1\n",
    "        \n",
    "        for char in t:\n",
    "            if char not in cache:\n",
    "                return False\n",
    "            else:\n",
    "                cache[char] -= 1\n",
    "                if cache[char] == 0:\n",
    "                    del cache[char]\n",
    "        if cache != {}:\n",
    "            return False\n",
    "        return True\n",
    "# O(N) Time, space O(s)"
   ]
  },
  {
   "cell_type": "code",
   "execution_count": null,
   "metadata": {},
   "outputs": [],
   "source": [
    "# 383. Ransom Note\n",
    "# Given two strings ransomNote and magazine, return true if ransomNote can be constructed by using the letters from magazine and false otherwise.\n",
    "\n",
    "# Each letter in magazine can only be used once in ransomNote.\n",
    "\n",
    "class Solution:\n",
    "    def canConstruct(self, ransomNote: str, magazine: str) -> bool:\n",
    "        cache = dict()\n",
    "        for char in ransomNote:\n",
    "            if char not in cache:\n",
    "                cache[char] = 0\n",
    "            cache[char] += 1\n",
    "        \n",
    "        for char in magazine:\n",
    "            if char in cache:\n",
    "                cache[char] -=1\n",
    "                if cache[char] == 0:\n",
    "                    del cache[char]\n",
    "                if cache == {}:\n",
    "                    return True\n",
    "        return False\n",
    "\n",
    "# time O(n), space(n)"
   ]
  },
  {
   "cell_type": "code",
   "execution_count": null,
   "metadata": {},
   "outputs": [],
   "source": [
    "# 387. First Unique Character in a String\n",
    "# Given a string s, find the first non-repeating character in it and return its index. If it does not exist, return -1.\n",
    "\n",
    "class Solution:\n",
    "    def firstUniqChar(self, s: str) -> int:\n",
    "        cache = dict()\n",
    "        for index in range(len(s)):\n",
    "            if s[index] not in cache:\n",
    "                cache[s[index]] = [index, 1]\n",
    "            else:\n",
    "                cache[s[index]][1] += 1\n",
    "        for key, arr in cache.items():\n",
    "            if arr[1] == 1:\n",
    "                return arr[0]\n",
    "        return -1\n",
    "\n",
    "# O(n) time, space O(n)"
   ]
  }
 ],
 "metadata": {
  "kernelspec": {
   "display_name": "Python 3",
   "language": "python",
   "name": "python3"
  },
  "language_info": {
   "name": "python",
   "version": "3.11.1 (v3.11.1:a7a450f84a, Dec  6 2022, 15:24:06) [Clang 13.0.0 (clang-1300.0.29.30)]"
  },
  "orig_nbformat": 4,
  "vscode": {
   "interpreter": {
    "hash": "aee8b7b246df8f9039afb4144a1f6fd8d2ca17a180786b69acc140d282b71a49"
   }
  }
 },
 "nbformat": 4,
 "nbformat_minor": 2
}
