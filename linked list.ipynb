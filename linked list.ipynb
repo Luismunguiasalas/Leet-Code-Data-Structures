{
 "cells": [
  {
   "cell_type": "code",
   "execution_count": null,
   "metadata": {},
   "outputs": [],
   "source": [
    "# 141. Linked List Cycle\n",
    "\n",
    "# Given head, the head of a linked list, determine if the linked list has a cycle in it.\n",
    "\n",
    "# There is a cycle in a linked list if there is some node in the list that can be reached again by continuously following the next pointer. Internally, pos is used to denote the index of the node that tail's next pointer is connected to. Note that pos is not passed as a parameter.\n",
    "\n",
    "# Return true if there is a cycle in the linked list. Otherwise, return false.\n",
    "\n",
    "\n",
    "\n",
    "# Definition for singly-linked list.\n",
    "# class ListNode:\n",
    "#     def __init__(self, x):\n",
    "#         self.val = x\n",
    "#         self.next = None\n",
    "\n",
    "class Solution:\n",
    "    def hasCycle(self, head: Optional[ListNode]) -> bool:\n",
    "        if head is None:\n",
    "            return False\n",
    "        slow = head\n",
    "        fast = head\n",
    "        while fast.next is not None:\n",
    "            fast = fast.next.next\n",
    "            if fast is None:\n",
    "                return False\n",
    "            if fast.val == slow.val:\n",
    "                if fast is slow:\n",
    "                    return True\n",
    "            slow = slow.next\n",
    "        return False\n",
    "\n",
    "# O(n) time, O(1) space\n",
    "#runtime: 59ms, beats 81% of python3 solutions\n",
    "#memory: 17MB, beats 35% of python3 solutions"
   ]
  }
 ],
 "metadata": {
  "kernelspec": {
   "display_name": "base",
   "language": "python",
   "name": "python3"
  },
  "language_info": {
   "name": "python",
   "version": "3.9.13 (main, Aug 25 2022, 18:29:29) \n[Clang 12.0.0 ]"
  },
  "orig_nbformat": 4,
  "vscode": {
   "interpreter": {
    "hash": "40d3a090f54c6569ab1632332b64b2c03c39dcf918b08424e98f38b5ae0af88f"
   }
  }
 },
 "nbformat": 4,
 "nbformat_minor": 2
}
