{
 "cells": [
  {
   "cell_type": "code",
   "execution_count": null,
   "metadata": {},
   "outputs": [],
   "source": [
    "# 217. Contains Duplicate\n",
    "# Given an integer array nums, return true if any value appears at least twice in the array,\n",
    "# and return false if every element is distinct\n",
    "\n",
    "class Solution:\n",
    "  def containsDuplicate(self, nums: list[int]) -> bool:\n",
    "    # convert the nums into a set, that will remove any duplicates and keep only the distinct integers\n",
    "    # if the length of the set(num) is less than the length of the original array. Then a duplicate exists\n",
    "    # else, a duplicate doesn't exist\n",
    "    return len(set(nums)) != len(nums)\n",
    "  \n",
    "  \n",
    "\n",
    "# utilize an array, hash tableand sorting to solve the problem"
   ]
  }
 ],
 "metadata": {
  "language_info": {
   "name": "python"
  },
  "orig_nbformat": 4
 },
 "nbformat": 4,
 "nbformat_minor": 2
}
