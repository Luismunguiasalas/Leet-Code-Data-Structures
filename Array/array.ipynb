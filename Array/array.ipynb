{
 "cells": [
  {
   "cell_type": "code",
   "execution_count": null,
   "metadata": {},
   "outputs": [],
   "source": [
    "# 217. Contains Duplicate\n",
    "# Given an integer array nums, return true if any value appears at least twice in the array,\n",
    "# and return false if every element is distinct\n",
    "\n",
    "class Solution:\n",
    "  def containsDuplicate(self, nums: list[int]) -> bool:\n",
    "    # convert the nums into a set, that will remove any duplicates and keep only the distinct integers\n",
    "    # if the length of the set(num) is less than the length of the original array. Then a duplicate exists\n",
    "    # else, a duplicate doesn't existb\n",
    "    return len(set(nums)) != len(nums)\n",
    "  \n",
    "  \n",
    "\n",
    "# utilize an array, hash tableand sorting to solve the problem"
   ]
  },
  {
   "cell_type": "code",
   "execution_count": null,
   "metadata": {},
   "outputs": [],
   "source": [
    "# 53 Maximum Subarray\n",
    "# Given an integer array nums, find the subarray with the largest sum, and return its sum\n",
    "\n",
    "class Solution:\n",
    "  def maxSubArray(self, nums: List[int]) -> int:\n",
    "    running_sum = nums[0]\n",
    "    max_sum = nums[0]\n",
    "    \n",
    "    for number in nums[1:]:\n",
    "      if number + running_sum <= 0:\n",
    "        running_sum = number\n",
    "      elif number + running_sum > 0:\n",
    "        if running_sum < 0:\n",
    "          running_sum = number\n",
    "        else:\n",
    "          running_sum += number\n",
    "      if max_sum < running_sum:\n",
    "        max_sum = running_sum\n",
    "    return max_sum\n",
    "  \n",
    "  \n",
    "  class Solution:\n",
    "    def maxSubArray(self, nums: List[int]) -> int:\n",
    "      running_sum = nums[0]\n",
    "      max_sum = nums[0]\n",
    "      \n",
    "      for number in nums[1:]:\n",
    "        if number + running_sum > 0:\n",
    "          if running_sum < 0:\n",
    "            running_sum = number\n",
    "          else:\n",
    "            running_sum += number\n",
    "        else:\n",
    "          running_sum = number\n",
    "        if max_sum < running_sum:\n",
    "          max_sum = running_sum\n",
    "      return max_sum\n",
    "  \n",
    "  # time O(n), space O(1)\n",
    "  \n",
    "  #runtime: 724ms, beats 94%\n",
    "  #memory: 28MB, beats 28%"
   ]
  }
 ],
 "metadata": {
  "language_info": {
   "name": "python"
  },
  "orig_nbformat": 4
 },
 "nbformat": 4,
 "nbformat_minor": 2
}
